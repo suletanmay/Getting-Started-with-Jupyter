{
 "cells": [
  {
   "cell_type": "markdown",
   "id": "ecd59c38",
   "metadata": {},
   "source": [
    "# Getting Started With Jupyter Notebooks"
   ]
  },
  {
   "cell_type": "markdown",
   "id": "db29801e",
   "metadata": {},
   "source": [
    "In this notebook, we will learn about the basics of Jupyter notebooks."
   ]
  },
  {
   "cell_type": "markdown",
   "id": "55f16d7b",
   "metadata": {},
   "source": [
    "Data Science Languages:\n",
    "1) Python\n",
    "2) R\n",
    "3) SQL\n",
    "4) Julia\n",
    "5) PostgreSQL"
   ]
  },
  {
   "cell_type": "markdown",
   "id": "40b8847d",
   "metadata": {},
   "source": [
    "Some of the most widely used python libraries are:\n",
    "1) Pandas\n",
    "2) NumPy\n",
    "3) Matplotlib\n",
    "4) TensorFlow\n",
    "5) Keras\n",
    "6) NLTK"
   ]
  },
  {
   "cell_type": "markdown",
   "id": "7672aa35",
   "metadata": {},
   "source": [
    "This is a table in markdown:\n",
    "\n",
    "| Category          | Tools                                                      |\n",
    "|-------------------|------------------------------------------------------------|\n",
    "| Programming       | Python, R, Julia                                           |\n",
    "| Data Manipulation | Pandas, NumPy, dplyr, data.table                           |\n",
    "| Data Visualization| Matplotlib, Seaborn, Plotly, ggplot2                       |\n",
    "| Machine Learning  | Scikit-learn, TensorFlow, Keras, PyTorch, XGBoost          |\n",
    "| Big Data          | Hadoop, Spark, Kafka, Hive, Cassandra                      |\n",
    "| Cloud Computing   | AWS, Azure, Google Cloud Platform                          |\n",
    "| Database          | MySQL, PostgreSQL, MongoDB, SQLite, Snowflake             |\n",
    "| Web Framework     | Flask, Django                                              |\n",
    "| Version Control   | Git, GitHub, GitLab                                        |\n",
    "| Business Intelligence | Tableau, Power BI, QlikView, Looker                      |\n",
    "| Natural Language Processing | NLTK, SpaCy, TextBlob, Gensim                    |"
   ]
  },
  {
   "cell_type": "markdown",
   "id": "825f2d6d",
   "metadata": {},
   "source": [
    "Mathematics is the essence of the world!"
   ]
  },
  {
   "cell_type": "code",
   "execution_count": 1,
   "id": "6fdd5d1b",
   "metadata": {},
   "outputs": [
    {
     "data": {
      "text/plain": [
       "52"
      ]
     },
     "execution_count": 1,
     "metadata": {},
     "output_type": "execute_result"
    }
   ],
   "source": [
    "# Define numbers\n",
    "a = 5\n",
    "b = 10\n",
    "c = 2\n",
    "\n",
    "# Multiply and add numbers\n",
    "result = (a * b) + c\n",
    "result"
   ]
  },
  {
   "cell_type": "markdown",
   "id": "233b1a5c",
   "metadata": {},
   "source": [
    "Hours to minutes conversion!"
   ]
  },
  {
   "cell_type": "code",
   "execution_count": 2,
   "id": "7a01967a",
   "metadata": {},
   "outputs": [
    {
     "data": {
      "text/plain": [
       "2.0"
      ]
     },
     "execution_count": 2,
     "metadata": {},
     "output_type": "execute_result"
    }
   ],
   "source": [
    "def convert_minutes_to_hours(minutes):\n",
    "    hours = minutes / 60\n",
    "    return hours\n",
    "\n",
    "# Example usage\n",
    "minutes = 120\n",
    "hours = convert_minutes_to_hours(minutes)\n",
    "hours"
   ]
  },
  {
   "cell_type": "markdown",
   "id": "a0c71580",
   "metadata": {},
   "source": [
    "Mathematics is a fundamental field that explores patterns, structures, and relationships. Here are some of the top mathematicians in history:\n",
    "\n",
    "- Isaac Newton\n",
    "- Archimedes\n",
    "- Carl Friedrich Gauss\n",
    "- Leonhard Euler\n",
    "- Euclid\n",
    "- Bernhard Riemann\n",
    "- Pierre-Simon Laplace\n",
    "- Henri Poincaré\n",
    "- David Hilbert\n",
    "- Emmy Noether"
   ]
  },
  {
   "cell_type": "markdown",
   "id": "bc2e8e8a",
   "metadata": {},
   "source": [
    "Author: Tanmay Sule "
   ]
  },
  {
   "cell_type": "code",
   "execution_count": null,
   "id": "5ea9e189",
   "metadata": {},
   "outputs": [],
   "source": []
  }
 ],
 "metadata": {
  "kernelspec": {
   "display_name": "Python 3 (ipykernel)",
   "language": "python",
   "name": "python3"
  },
  "language_info": {
   "codemirror_mode": {
    "name": "ipython",
    "version": 3
   },
   "file_extension": ".py",
   "mimetype": "text/x-python",
   "name": "python",
   "nbconvert_exporter": "python",
   "pygments_lexer": "ipython3",
   "version": "3.11.5"
  }
 },
 "nbformat": 4,
 "nbformat_minor": 5
}
